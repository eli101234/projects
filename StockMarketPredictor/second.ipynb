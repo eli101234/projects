{
 "cells": [
  {
   "cell_type": "code",
   "execution_count": 1,
   "id": "269bcbf1",
   "metadata": {},
   "outputs": [],
   "source": [
    "def train_lstm_model(config, X_seq, y_seq):\n",
    "    from torch.utils.data import DataLoader\n",
    "\n",
    "    split_idx = int(len(X_seq) * 0.8)\n",
    "    train_ds = StockDataset(X_seq[:split_idx], y_seq[:split_idx])\n",
    "    val_ds = StockDataset(X_seq[split_idx:], y_seq[split_idx:])\n",
    "\n",
    "    train_dl = DataLoader(train_ds, batch_size=config['batch_size'], shuffle=True)\n",
    "    val_dl = DataLoader(val_ds, batch_size=config['batch_size'])\n",
    "\n",
    "    model = LSTMRegressor(\n",
    "        input_size=X_seq.shape[2],\n",
    "        hidden_size=config['hidden_size'],\n",
    "        num_layers=config['num_layers']\n",
    "    )\n",
    "\n",
    "    optimizer = torch.optim.Adam(model.parameters(), lr=config['learning_rate'])\n",
    "    loss_fn = nn.MSELoss()\n",
    "\n",
    "    for epoch in range(config['epochs']):\n",
    "        model.train()\n",
    "        for xb, yb in train_dl:\n",
    "            pred = model(xb)\n",
    "            loss = loss_fn(pred, yb)\n",
    "            optimizer.zero_grad()\n",
    "            loss.backward()\n",
    "            optimizer.step()\n",
    "\n",
    "    # Evaluate on validation set\n",
    "    model.eval()\n",
    "    all_preds, all_targets = [], []\n",
    "    with torch.no_grad():\n",
    "        for xb, yb in val_dl:\n",
    "            pred = model(xb)\n",
    "            all_preds.append(pred)\n",
    "            all_targets.append(yb)\n",
    "\n",
    "    preds = torch.cat(all_preds).numpy()\n",
    "    targets = torch.cat(all_targets).numpy()\n",
    "    rmse = np.sqrt(np.mean((preds - targets) ** 2))\n",
    "    return rmse, config\n"
   ]
  },
  {
   "cell_type": "code",
   "execution_count": 2,
   "id": "0362f5b1",
   "metadata": {},
   "outputs": [
    {
     "name": "stdout",
     "output_type": "stream",
     "text": [
      "Trial 1/10 with config: {'SEQ_LEN': 20, 'hidden_size': 32, 'num_layers': 1, 'batch_size': 32, 'learning_rate': 0.0005, 'epochs': 20}\n"
     ]
    },
    {
     "ename": "NameError",
     "evalue": "name 'data_scaled' is not defined",
     "output_type": "error",
     "traceback": [
      "\u001b[1;31m---------------------------------------------------------------------------\u001b[0m",
      "\u001b[1;31mNameError\u001b[0m                                 Traceback (most recent call last)",
      "Cell \u001b[1;32mIn[2], line 25\u001b[0m\n\u001b[0;32m     23\u001b[0m SEQ_LEN \u001b[38;5;241m=\u001b[39m config[\u001b[38;5;124m'\u001b[39m\u001b[38;5;124mSEQ_LEN\u001b[39m\u001b[38;5;124m'\u001b[39m]\n\u001b[0;32m     24\u001b[0m X_seq, y_seq \u001b[38;5;241m=\u001b[39m [], []\n\u001b[1;32m---> 25\u001b[0m \u001b[38;5;28;01mfor\u001b[39;00m i \u001b[38;5;129;01min\u001b[39;00m \u001b[38;5;28mrange\u001b[39m(\u001b[38;5;28mlen\u001b[39m(\u001b[43mdata_scaled\u001b[49m) \u001b[38;5;241m-\u001b[39m SEQ_LEN):\n\u001b[0;32m     26\u001b[0m     X_seq\u001b[38;5;241m.\u001b[39mappend(data_scaled[i:i\u001b[38;5;241m+\u001b[39mSEQ_LEN])\n\u001b[0;32m     27\u001b[0m     y_seq\u001b[38;5;241m.\u001b[39mappend(data_scaled[i\u001b[38;5;241m+\u001b[39mSEQ_LEN][\u001b[38;5;241m-\u001b[39m\u001b[38;5;241m1\u001b[39m])\n",
      "\u001b[1;31mNameError\u001b[0m: name 'data_scaled' is not defined"
     ]
    }
   ],
   "source": [
    "import random\n",
    "\n",
    "param_space = {\n",
    "    'SEQ_LEN': [10, 20, 30],\n",
    "    'hidden_size': [32, 64, 128],\n",
    "    'num_layers': [1, 2],\n",
    "    'batch_size': [16, 32],\n",
    "    'learning_rate': [0.001, 0.0005],\n",
    "    'epochs': [20]\n",
    "}\n",
    "\n",
    "def sample_config():\n",
    "    return {k: random.choice(v) for k, v in param_space.items()}\n",
    "\n",
    "results = []\n",
    "NUM_TRIALS = 10\n",
    "\n",
    "for trial in range(NUM_TRIALS):\n",
    "    config = sample_config()\n",
    "    print(f\"Trial {trial+1}/{NUM_TRIALS} with config: {config}\")\n",
    "\n",
    "    # Prepare new sequences for each SEQ_LEN\n",
    "    SEQ_LEN = config['SEQ_LEN']\n",
    "    X_seq, y_seq = [], []\n",
    "    for i in range(len(data_scaled) - SEQ_LEN):\n",
    "        X_seq.append(data_scaled[i:i+SEQ_LEN])\n",
    "        y_seq.append(data_scaled[i+SEQ_LEN][-1])\n",
    "    X_seq = np.array(X_seq, dtype=np.float32)\n",
    "    y_seq = np.array(y_seq, dtype=np.float32)\n",
    "\n",
    "    rmse, used_config = train_lstm_model(config, X_seq, y_seq)\n",
    "    results.append((rmse, used_config))\n",
    "    print(f\"→ RMSE: {rmse:.4f}\\n\")\n",
    "\n",
    "# Sort and show best config\n",
    "results.sort(key=lambda x: x[0])\n",
    "print(\"🏆 Best Configuration:\")\n",
    "print(results[0][1])\n",
    "print(f\"Lowest RMSE: {results[0][0]:.4f}\")"
   ]
  },
  {
   "cell_type": "code",
   "execution_count": null,
   "id": "86df3df9",
   "metadata": {},
   "outputs": [],
   "source": []
  }
 ],
 "metadata": {
  "kernelspec": {
   "display_name": "venv",
   "language": "python",
   "name": "python3"
  },
  "language_info": {
   "codemirror_mode": {
    "name": "ipython",
    "version": 3
   },
   "file_extension": ".py",
   "mimetype": "text/x-python",
   "name": "python",
   "nbconvert_exporter": "python",
   "pygments_lexer": "ipython3",
   "version": "3.10.11"
  }
 },
 "nbformat": 4,
 "nbformat_minor": 5
}
