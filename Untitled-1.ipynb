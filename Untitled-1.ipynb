{
 "cells": [
  {
   "cell_type": "code",
   "execution_count": null,
   "id": "59a81323",
   "metadata": {},
   "outputs": [
    {
     "name": "stdout",
     "output_type": "stream",
     "text": [
      "Addition:\n",
      " tensor([[2., 3.],\n",
      "        [4., 5.]])\n",
      "Matrix multiplication:\n",
      " tensor([[3., 3.],\n",
      "        [7., 7.]])\n",
      "Reshaped:\n",
      " tensor([1., 2., 3., 4.])\n"
     ]
    }
   ],
   "source": [
    "import torch\n",
    "# Tensors & Operations\n",
    "# Create a tensor\n",
    "a = torch.tensor([[1, 2], [3, 4]], dtype=torch.float32)\n",
    "b = torch.ones_like(a)\n",
    "\n",
    "# Element-wise operations\n",
    "print(\"Addition:\\n\", a + b)\n",
    "print(\"Matrix multiplication:\\n\", torch.mm(a, b.T))\n",
    "\n",
    "# Reshaping\n",
    "print(\"Reshaped:\\n\", a.view(-1))  # flatten"
   ]
  },
  {
   "cell_type": "code",
   "execution_count": 4,
   "id": "73e4979e",
   "metadata": {},
   "outputs": [
    {
     "name": "stdout",
     "output_type": "stream",
     "text": [
      "Epoch 0: Loss = 14.8151\n",
      "Epoch 10: Loss = 0.1787\n",
      "Epoch 20: Loss = 0.1134\n",
      "Epoch 30: Loss = 0.0933\n",
      "Epoch 40: Loss = 0.0773\n",
      "Epoch 50: Loss = 0.0644\n",
      "Epoch 60: Loss = 0.0540\n",
      "Epoch 70: Loss = 0.0456\n",
      "Epoch 80: Loss = 0.0388\n",
      "Epoch 90: Loss = 0.0334\n",
      "Learned weights: tensor([[2.4779]])\n",
      "Learned bias: tensor([2.2886])\n"
     ]
    }
   ],
   "source": [
    "# Linear Regression from Scratch\n",
    "import torch\n",
    "import torch.nn as nn\n",
    "\n",
    "# Generate dummy data: y = 3x + 2\n",
    "X = torch.rand(100, 1)\n",
    "y = 3 * X + 2 + 0.1 * torch.randn_like(X)\n",
    "\n",
    "# Model\n",
    "model = nn.Linear(1, 1)\n",
    "loss_fn = nn.MSELoss()\n",
    "optimizer = torch.optim.SGD(model.parameters(), lr=0.1)\n",
    "\n",
    "# Training loop\n",
    "for epoch in range(100):\n",
    "    pred = model(X)\n",
    "    loss = loss_fn(pred, y)\n",
    "\n",
    "    optimizer.zero_grad()\n",
    "    loss.backward()\n",
    "    optimizer.step()\n",
    "\n",
    "    if epoch % 10 == 0:\n",
    "        print(f\"Epoch {epoch}: Loss = {loss.item():.4f}\")\n",
    "\n",
    "print(\"Learned weights:\", model.weight.data)\n",
    "print(\"Learned bias:\", model.bias.data)"
   ]
  },
  {
   "cell_type": "code",
   "execution_count": 5,
   "id": "6eda1710",
   "metadata": {},
   "outputs": [
    {
     "name": "stderr",
     "output_type": "stream",
     "text": [
      "100.0%\n",
      "100.0%\n",
      "100.0%\n",
      "100.0%\n"
     ]
    },
    {
     "name": "stdout",
     "output_type": "stream",
     "text": [
      "Epoch 1 complete\n"
     ]
    }
   ],
   "source": [
    "# Train on MNIST (via DataLoader)\n",
    "import torch\n",
    "from torch import nn\n",
    "from torchvision import datasets, transforms\n",
    "\n",
    "# Prepare dataset\n",
    "transform = transforms.ToTensor()\n",
    "train = datasets.MNIST(root='data', train=True, download=True, transform=transform)\n",
    "train_loader = torch.utils.data.DataLoader(train, batch_size=64, shuffle=True)\n",
    "\n",
    "# Model\n",
    "model = nn.Sequential(\n",
    "    nn.Flatten(),\n",
    "    nn.Linear(28*28, 128),\n",
    "    nn.ReLU(),\n",
    "    nn.Linear(128, 10)\n",
    ")\n",
    "\n",
    "loss_fn = nn.CrossEntropyLoss()\n",
    "optimizer = torch.optim.Adam(model.parameters(), lr=1e-3)\n",
    "\n",
    "# Train loop\n",
    "for epoch in range(1):\n",
    "    for batch in train_loader:\n",
    "        X, y = batch\n",
    "        pred = model(X)\n",
    "        loss = loss_fn(pred, y)\n",
    "\n",
    "        optimizer.zero_grad()\n",
    "        loss.backward()\n",
    "        optimizer.step()\n",
    "\n",
    "    print(f\"Epoch {epoch+1} complete\")"
   ]
  },
  {
   "cell_type": "code",
   "execution_count": null,
   "id": "50db49a6",
   "metadata": {},
   "outputs": [],
   "source": []
  }
 ],
 "metadata": {
  "kernelspec": {
   "display_name": "venv",
   "language": "python",
   "name": "python3"
  },
  "language_info": {
   "codemirror_mode": {
    "name": "ipython",
    "version": 3
   },
   "file_extension": ".py",
   "mimetype": "text/x-python",
   "name": "python",
   "nbconvert_exporter": "python",
   "pygments_lexer": "ipython3",
   "version": "3.10.11"
  }
 },
 "nbformat": 4,
 "nbformat_minor": 5
}
